{
  "cells": [
    {
      "cell_type": "markdown",
      "metadata": {
        "id": "view-in-github",
        "colab_type": "text"
      },
      "source": [
        "<a href=\"https://colab.research.google.com/github/PRANEETHASRK/machinelearing/blob/main/bl_en_u4cse20001lab3.ipynb\" target=\"_parent\"><img src=\"https://colab.research.google.com/assets/colab-badge.svg\" alt=\"Open In Colab\"/></a>"
      ]
    },
    {
      "cell_type": "code",
      "execution_count": 1,
      "metadata": {
        "id": "vuzKoMLPtDdO"
      },
      "outputs": [],
      "source": [
        "import pandas as pd\n",
        "import numpy as np\n",
        "from scipy.spatial import distance\n",
        "import matplotlib.pyplot as plt"
      ]
    },
    {
      "cell_type": "code",
      "execution_count": 5,
      "metadata": {
        "colab": {
          "base_uri": "https://localhost:8080/",
          "height": 421
        },
        "id": "XvWV1FZ0tWJ8",
        "outputId": "99ed772e-34d7-4588-8bb1-bfafdbc49d01"
      },
      "outputs": [
        {
          "output_type": "execute_result",
          "data": {
            "text/plain": [
              "   District Name  No. OfVillagesWhere SurveyCompleted  Banks      %    ATM  \\\n",
              "0      All India                               648358  74639  11.51  47910   \n",
              "1    State Total                                 7195    907  12.61    653   \n",
              "2   ANANTNAG (1)                                  425     75  17.65     48   \n",
              "3     BADGAM (2)                                  507     77  15.19     73   \n",
              "4  BARAMULLA (3)                                  598     91  15.22     70   \n",
              "\n",
              "     %.1  Connected to All weather road    %.2  \\\n",
              "0   7.39                         443734  68.44   \n",
              "1   9.08                           4824  67.05   \n",
              "2  11.29                            344  80.94   \n",
              "3  14.40                            415  81.85   \n",
              "4  11.71                            478  79.93   \n",
              "\n",
              "   Internal Pucca Roads (Cc/ Brick Road)    %.3  ...  Govt. Seed centre  \\\n",
              "0                                 438576  67.64  ...              54474   \n",
              "1                                   4214  58.57  ...                728   \n",
              "2                                    288  67.76  ...                 39   \n",
              "3                                    356  70.22  ...                100   \n",
              "4                                    390  65.22  ...                 60   \n",
              "\n",
              "    %.20  Fertilizer Shop   %.21  Community waste disposal system   %.22  \\\n",
              "0   8.40            95533  14.73                           102392  15.79   \n",
              "1  10.12             1975  27.45                              218   3.03   \n",
              "2   9.18              223  52.47                               25   5.88   \n",
              "3  19.72              243  47.93                               34   6.71   \n",
              "4  10.03              203  33.95                               13   2.17   \n",
              "\n",
              "   Community bio gas or recycle of waste for production use  %.23  \\\n",
              "0                                              38775         5.98   \n",
              "1                                                127         1.77   \n",
              "2                                                 15         3.53   \n",
              "3                                                 31         6.11   \n",
              "4                                                 10         1.67   \n",
              "\n",
              "   Aanganwadi Centre   %.24  \n",
              "0             510774  78.78  \n",
              "1               6621  92.02  \n",
              "2                405  95.29  \n",
              "3                487  96.06  \n",
              "4                584  97.66  \n",
              "\n",
              "[5 rows x 52 columns]"
            ],
            "text/html": [
              "\n",
              "  <div id=\"df-b01530de-07b8-470b-920c-cd67d34fcd47\">\n",
              "    <div class=\"colab-df-container\">\n",
              "      <div>\n",
              "<style scoped>\n",
              "    .dataframe tbody tr th:only-of-type {\n",
              "        vertical-align: middle;\n",
              "    }\n",
              "\n",
              "    .dataframe tbody tr th {\n",
              "        vertical-align: top;\n",
              "    }\n",
              "\n",
              "    .dataframe thead th {\n",
              "        text-align: right;\n",
              "    }\n",
              "</style>\n",
              "<table border=\"1\" class=\"dataframe\">\n",
              "  <thead>\n",
              "    <tr style=\"text-align: right;\">\n",
              "      <th></th>\n",
              "      <th>District Name</th>\n",
              "      <th>No. OfVillagesWhere SurveyCompleted</th>\n",
              "      <th>Banks</th>\n",
              "      <th>%</th>\n",
              "      <th>ATM</th>\n",
              "      <th>%.1</th>\n",
              "      <th>Connected to All weather road</th>\n",
              "      <th>%.2</th>\n",
              "      <th>Internal Pucca Roads (Cc/ Brick Road)</th>\n",
              "      <th>%.3</th>\n",
              "      <th>...</th>\n",
              "      <th>Govt. Seed centre</th>\n",
              "      <th>%.20</th>\n",
              "      <th>Fertilizer Shop</th>\n",
              "      <th>%.21</th>\n",
              "      <th>Community waste disposal system</th>\n",
              "      <th>%.22</th>\n",
              "      <th>Community bio gas or recycle of waste for production use</th>\n",
              "      <th>%.23</th>\n",
              "      <th>Aanganwadi Centre</th>\n",
              "      <th>%.24</th>\n",
              "    </tr>\n",
              "  </thead>\n",
              "  <tbody>\n",
              "    <tr>\n",
              "      <th>0</th>\n",
              "      <td>All India</td>\n",
              "      <td>648358</td>\n",
              "      <td>74639</td>\n",
              "      <td>11.51</td>\n",
              "      <td>47910</td>\n",
              "      <td>7.39</td>\n",
              "      <td>443734</td>\n",
              "      <td>68.44</td>\n",
              "      <td>438576</td>\n",
              "      <td>67.64</td>\n",
              "      <td>...</td>\n",
              "      <td>54474</td>\n",
              "      <td>8.40</td>\n",
              "      <td>95533</td>\n",
              "      <td>14.73</td>\n",
              "      <td>102392</td>\n",
              "      <td>15.79</td>\n",
              "      <td>38775</td>\n",
              "      <td>5.98</td>\n",
              "      <td>510774</td>\n",
              "      <td>78.78</td>\n",
              "    </tr>\n",
              "    <tr>\n",
              "      <th>1</th>\n",
              "      <td>State Total</td>\n",
              "      <td>7195</td>\n",
              "      <td>907</td>\n",
              "      <td>12.61</td>\n",
              "      <td>653</td>\n",
              "      <td>9.08</td>\n",
              "      <td>4824</td>\n",
              "      <td>67.05</td>\n",
              "      <td>4214</td>\n",
              "      <td>58.57</td>\n",
              "      <td>...</td>\n",
              "      <td>728</td>\n",
              "      <td>10.12</td>\n",
              "      <td>1975</td>\n",
              "      <td>27.45</td>\n",
              "      <td>218</td>\n",
              "      <td>3.03</td>\n",
              "      <td>127</td>\n",
              "      <td>1.77</td>\n",
              "      <td>6621</td>\n",
              "      <td>92.02</td>\n",
              "    </tr>\n",
              "    <tr>\n",
              "      <th>2</th>\n",
              "      <td>ANANTNAG (1)</td>\n",
              "      <td>425</td>\n",
              "      <td>75</td>\n",
              "      <td>17.65</td>\n",
              "      <td>48</td>\n",
              "      <td>11.29</td>\n",
              "      <td>344</td>\n",
              "      <td>80.94</td>\n",
              "      <td>288</td>\n",
              "      <td>67.76</td>\n",
              "      <td>...</td>\n",
              "      <td>39</td>\n",
              "      <td>9.18</td>\n",
              "      <td>223</td>\n",
              "      <td>52.47</td>\n",
              "      <td>25</td>\n",
              "      <td>5.88</td>\n",
              "      <td>15</td>\n",
              "      <td>3.53</td>\n",
              "      <td>405</td>\n",
              "      <td>95.29</td>\n",
              "    </tr>\n",
              "    <tr>\n",
              "      <th>3</th>\n",
              "      <td>BADGAM (2)</td>\n",
              "      <td>507</td>\n",
              "      <td>77</td>\n",
              "      <td>15.19</td>\n",
              "      <td>73</td>\n",
              "      <td>14.40</td>\n",
              "      <td>415</td>\n",
              "      <td>81.85</td>\n",
              "      <td>356</td>\n",
              "      <td>70.22</td>\n",
              "      <td>...</td>\n",
              "      <td>100</td>\n",
              "      <td>19.72</td>\n",
              "      <td>243</td>\n",
              "      <td>47.93</td>\n",
              "      <td>34</td>\n",
              "      <td>6.71</td>\n",
              "      <td>31</td>\n",
              "      <td>6.11</td>\n",
              "      <td>487</td>\n",
              "      <td>96.06</td>\n",
              "    </tr>\n",
              "    <tr>\n",
              "      <th>4</th>\n",
              "      <td>BARAMULLA (3)</td>\n",
              "      <td>598</td>\n",
              "      <td>91</td>\n",
              "      <td>15.22</td>\n",
              "      <td>70</td>\n",
              "      <td>11.71</td>\n",
              "      <td>478</td>\n",
              "      <td>79.93</td>\n",
              "      <td>390</td>\n",
              "      <td>65.22</td>\n",
              "      <td>...</td>\n",
              "      <td>60</td>\n",
              "      <td>10.03</td>\n",
              "      <td>203</td>\n",
              "      <td>33.95</td>\n",
              "      <td>13</td>\n",
              "      <td>2.17</td>\n",
              "      <td>10</td>\n",
              "      <td>1.67</td>\n",
              "      <td>584</td>\n",
              "      <td>97.66</td>\n",
              "    </tr>\n",
              "  </tbody>\n",
              "</table>\n",
              "<p>5 rows × 52 columns</p>\n",
              "</div>\n",
              "      <button class=\"colab-df-convert\" onclick=\"convertToInteractive('df-b01530de-07b8-470b-920c-cd67d34fcd47')\"\n",
              "              title=\"Convert this dataframe to an interactive table.\"\n",
              "              style=\"display:none;\">\n",
              "        \n",
              "  <svg xmlns=\"http://www.w3.org/2000/svg\" height=\"24px\"viewBox=\"0 0 24 24\"\n",
              "       width=\"24px\">\n",
              "    <path d=\"M0 0h24v24H0V0z\" fill=\"none\"/>\n",
              "    <path d=\"M18.56 5.44l.94 2.06.94-2.06 2.06-.94-2.06-.94-.94-2.06-.94 2.06-2.06.94zm-11 1L8.5 8.5l.94-2.06 2.06-.94-2.06-.94L8.5 2.5l-.94 2.06-2.06.94zm10 10l.94 2.06.94-2.06 2.06-.94-2.06-.94-.94-2.06-.94 2.06-2.06.94z\"/><path d=\"M17.41 7.96l-1.37-1.37c-.4-.4-.92-.59-1.43-.59-.52 0-1.04.2-1.43.59L10.3 9.45l-7.72 7.72c-.78.78-.78 2.05 0 2.83L4 21.41c.39.39.9.59 1.41.59.51 0 1.02-.2 1.41-.59l7.78-7.78 2.81-2.81c.8-.78.8-2.07 0-2.86zM5.41 20L4 18.59l7.72-7.72 1.47 1.35L5.41 20z\"/>\n",
              "  </svg>\n",
              "      </button>\n",
              "      \n",
              "  <style>\n",
              "    .colab-df-container {\n",
              "      display:flex;\n",
              "      flex-wrap:wrap;\n",
              "      gap: 12px;\n",
              "    }\n",
              "\n",
              "    .colab-df-convert {\n",
              "      background-color: #E8F0FE;\n",
              "      border: none;\n",
              "      border-radius: 50%;\n",
              "      cursor: pointer;\n",
              "      display: none;\n",
              "      fill: #1967D2;\n",
              "      height: 32px;\n",
              "      padding: 0 0 0 0;\n",
              "      width: 32px;\n",
              "    }\n",
              "\n",
              "    .colab-df-convert:hover {\n",
              "      background-color: #E2EBFA;\n",
              "      box-shadow: 0px 1px 2px rgba(60, 64, 67, 0.3), 0px 1px 3px 1px rgba(60, 64, 67, 0.15);\n",
              "      fill: #174EA6;\n",
              "    }\n",
              "\n",
              "    [theme=dark] .colab-df-convert {\n",
              "      background-color: #3B4455;\n",
              "      fill: #D2E3FC;\n",
              "    }\n",
              "\n",
              "    [theme=dark] .colab-df-convert:hover {\n",
              "      background-color: #434B5C;\n",
              "      box-shadow: 0px 1px 3px 1px rgba(0, 0, 0, 0.15);\n",
              "      filter: drop-shadow(0px 1px 2px rgba(0, 0, 0, 0.3));\n",
              "      fill: #FFFFFF;\n",
              "    }\n",
              "  </style>\n",
              "\n",
              "      <script>\n",
              "        const buttonEl =\n",
              "          document.querySelector('#df-b01530de-07b8-470b-920c-cd67d34fcd47 button.colab-df-convert');\n",
              "        buttonEl.style.display =\n",
              "          google.colab.kernel.accessAllowed ? 'block' : 'none';\n",
              "\n",
              "        async function convertToInteractive(key) {\n",
              "          const element = document.querySelector('#df-b01530de-07b8-470b-920c-cd67d34fcd47');\n",
              "          const dataTable =\n",
              "            await google.colab.kernel.invokeFunction('convertToInteractive',\n",
              "                                                     [key], {});\n",
              "          if (!dataTable) return;\n",
              "\n",
              "          const docLinkHtml = 'Like what you see? Visit the ' +\n",
              "            '<a target=\"_blank\" href=https://colab.research.google.com/notebooks/data_table.ipynb>data table notebook</a>'\n",
              "            + ' to learn more about interactive tables.';\n",
              "          element.innerHTML = '';\n",
              "          dataTable['output_type'] = 'display_data';\n",
              "          await google.colab.output.renderOutput(dataTable, element);\n",
              "          const docLink = document.createElement('div');\n",
              "          docLink.innerHTML = docLinkHtml;\n",
              "          element.appendChild(docLink);\n",
              "        }\n",
              "      </script>\n",
              "    </div>\n",
              "  </div>\n",
              "  "
            ]
          },
          "metadata": {},
          "execution_count": 5
        }
      ],
      "source": [
        "dataframe = pd.read_excel('/content/lab311.xlsx',nrows=100)\n",
        "dataframe.head()"
      ]
    },
    {
      "cell_type": "code",
      "execution_count": 6,
      "metadata": {
        "id": "QrwEjXkTVo9U"
      },
      "outputs": [],
      "source": [
        "Village_Survey = []\n",
        "for index,row in dataframe.iterrows():\n",
        "  dataframe.loc[dataframe['No. OfVillagesWhere SurveyCompleted'] >= 50000, 'Village_Survey'] = '1'\n",
        "  dataframe.loc[dataframe['No. OfVillagesWhere SurveyCompleted'] < 50000, 'Village_Survey'] = '0'\n"
      ]
    },
    {
      "cell_type": "code",
      "execution_count": 14,
      "metadata": {
        "id": "X5IjoaxQ465T"
      },
      "outputs": [],
      "source": [
        "Feature_Vectors = []\n",
        "for index,row in dataframe.iterrows():\n",
        "  temp = []\n",
        "  temp.append(row['No. OfVillagesWhere SurveyCompleted'])\n",
        "  temp.append(row['Aanganwadi Centre'])\n",
        "  temp.append(row['Community waste disposal system'])\n",
        "  Feature_Vectors.append(temp)"
      ]
    },
    {
      "cell_type": "code",
      "execution_count": 7,
      "metadata": {
        "colab": {
          "base_uri": "https://localhost:8080/",
          "height": 421
        },
        "id": "lvQvpR__iBRO",
        "outputId": "e9b5125e-74e4-45f0-c80d-6daf084a718f"
      },
      "outputs": [
        {
          "output_type": "execute_result",
          "data": {
            "text/plain": [
              "   District Name  No. OfVillagesWhere SurveyCompleted  Banks      %    ATM  \\\n",
              "0      All India                               648358  74639  11.51  47910   \n",
              "1    State Total                                 7195    907  12.61    653   \n",
              "2   ANANTNAG (1)                                  425     75  17.65     48   \n",
              "3     BADGAM (2)                                  507     77  15.19     73   \n",
              "4  BARAMULLA (3)                                  598     91  15.22     70   \n",
              "\n",
              "     %.1  Connected to All weather road    %.2  \\\n",
              "0   7.39                         443734  68.44   \n",
              "1   9.08                           4824  67.05   \n",
              "2  11.29                            344  80.94   \n",
              "3  14.40                            415  81.85   \n",
              "4  11.71                            478  79.93   \n",
              "\n",
              "   Internal Pucca Roads (Cc/ Brick Road)    %.3  ...   %.20  Fertilizer Shop  \\\n",
              "0                                 438576  67.64  ...   8.40            95533   \n",
              "1                                   4214  58.57  ...  10.12             1975   \n",
              "2                                    288  67.76  ...   9.18              223   \n",
              "3                                    356  70.22  ...  19.72              243   \n",
              "4                                    390  65.22  ...  10.03              203   \n",
              "\n",
              "    %.21  Community waste disposal system   %.22  \\\n",
              "0  14.73                           102392  15.79   \n",
              "1  27.45                              218   3.03   \n",
              "2  52.47                               25   5.88   \n",
              "3  47.93                               34   6.71   \n",
              "4  33.95                               13   2.17   \n",
              "\n",
              "   Community bio gas or recycle of waste for production use  %.23  \\\n",
              "0                                              38775         5.98   \n",
              "1                                                127         1.77   \n",
              "2                                                 15         3.53   \n",
              "3                                                 31         6.11   \n",
              "4                                                 10         1.67   \n",
              "\n",
              "   Aanganwadi Centre   %.24  Village_Survey  \n",
              "0             510774  78.78               1  \n",
              "1               6621  92.02               0  \n",
              "2                405  95.29               0  \n",
              "3                487  96.06               0  \n",
              "4                584  97.66               0  \n",
              "\n",
              "[5 rows x 53 columns]"
            ],
            "text/html": [
              "\n",
              "  <div id=\"df-c1c8a57f-e33a-46d9-aebc-5d9d351f2fb1\">\n",
              "    <div class=\"colab-df-container\">\n",
              "      <div>\n",
              "<style scoped>\n",
              "    .dataframe tbody tr th:only-of-type {\n",
              "        vertical-align: middle;\n",
              "    }\n",
              "\n",
              "    .dataframe tbody tr th {\n",
              "        vertical-align: top;\n",
              "    }\n",
              "\n",
              "    .dataframe thead th {\n",
              "        text-align: right;\n",
              "    }\n",
              "</style>\n",
              "<table border=\"1\" class=\"dataframe\">\n",
              "  <thead>\n",
              "    <tr style=\"text-align: right;\">\n",
              "      <th></th>\n",
              "      <th>District Name</th>\n",
              "      <th>No. OfVillagesWhere SurveyCompleted</th>\n",
              "      <th>Banks</th>\n",
              "      <th>%</th>\n",
              "      <th>ATM</th>\n",
              "      <th>%.1</th>\n",
              "      <th>Connected to All weather road</th>\n",
              "      <th>%.2</th>\n",
              "      <th>Internal Pucca Roads (Cc/ Brick Road)</th>\n",
              "      <th>%.3</th>\n",
              "      <th>...</th>\n",
              "      <th>%.20</th>\n",
              "      <th>Fertilizer Shop</th>\n",
              "      <th>%.21</th>\n",
              "      <th>Community waste disposal system</th>\n",
              "      <th>%.22</th>\n",
              "      <th>Community bio gas or recycle of waste for production use</th>\n",
              "      <th>%.23</th>\n",
              "      <th>Aanganwadi Centre</th>\n",
              "      <th>%.24</th>\n",
              "      <th>Village_Survey</th>\n",
              "    </tr>\n",
              "  </thead>\n",
              "  <tbody>\n",
              "    <tr>\n",
              "      <th>0</th>\n",
              "      <td>All India</td>\n",
              "      <td>648358</td>\n",
              "      <td>74639</td>\n",
              "      <td>11.51</td>\n",
              "      <td>47910</td>\n",
              "      <td>7.39</td>\n",
              "      <td>443734</td>\n",
              "      <td>68.44</td>\n",
              "      <td>438576</td>\n",
              "      <td>67.64</td>\n",
              "      <td>...</td>\n",
              "      <td>8.40</td>\n",
              "      <td>95533</td>\n",
              "      <td>14.73</td>\n",
              "      <td>102392</td>\n",
              "      <td>15.79</td>\n",
              "      <td>38775</td>\n",
              "      <td>5.98</td>\n",
              "      <td>510774</td>\n",
              "      <td>78.78</td>\n",
              "      <td>1</td>\n",
              "    </tr>\n",
              "    <tr>\n",
              "      <th>1</th>\n",
              "      <td>State Total</td>\n",
              "      <td>7195</td>\n",
              "      <td>907</td>\n",
              "      <td>12.61</td>\n",
              "      <td>653</td>\n",
              "      <td>9.08</td>\n",
              "      <td>4824</td>\n",
              "      <td>67.05</td>\n",
              "      <td>4214</td>\n",
              "      <td>58.57</td>\n",
              "      <td>...</td>\n",
              "      <td>10.12</td>\n",
              "      <td>1975</td>\n",
              "      <td>27.45</td>\n",
              "      <td>218</td>\n",
              "      <td>3.03</td>\n",
              "      <td>127</td>\n",
              "      <td>1.77</td>\n",
              "      <td>6621</td>\n",
              "      <td>92.02</td>\n",
              "      <td>0</td>\n",
              "    </tr>\n",
              "    <tr>\n",
              "      <th>2</th>\n",
              "      <td>ANANTNAG (1)</td>\n",
              "      <td>425</td>\n",
              "      <td>75</td>\n",
              "      <td>17.65</td>\n",
              "      <td>48</td>\n",
              "      <td>11.29</td>\n",
              "      <td>344</td>\n",
              "      <td>80.94</td>\n",
              "      <td>288</td>\n",
              "      <td>67.76</td>\n",
              "      <td>...</td>\n",
              "      <td>9.18</td>\n",
              "      <td>223</td>\n",
              "      <td>52.47</td>\n",
              "      <td>25</td>\n",
              "      <td>5.88</td>\n",
              "      <td>15</td>\n",
              "      <td>3.53</td>\n",
              "      <td>405</td>\n",
              "      <td>95.29</td>\n",
              "      <td>0</td>\n",
              "    </tr>\n",
              "    <tr>\n",
              "      <th>3</th>\n",
              "      <td>BADGAM (2)</td>\n",
              "      <td>507</td>\n",
              "      <td>77</td>\n",
              "      <td>15.19</td>\n",
              "      <td>73</td>\n",
              "      <td>14.40</td>\n",
              "      <td>415</td>\n",
              "      <td>81.85</td>\n",
              "      <td>356</td>\n",
              "      <td>70.22</td>\n",
              "      <td>...</td>\n",
              "      <td>19.72</td>\n",
              "      <td>243</td>\n",
              "      <td>47.93</td>\n",
              "      <td>34</td>\n",
              "      <td>6.71</td>\n",
              "      <td>31</td>\n",
              "      <td>6.11</td>\n",
              "      <td>487</td>\n",
              "      <td>96.06</td>\n",
              "      <td>0</td>\n",
              "    </tr>\n",
              "    <tr>\n",
              "      <th>4</th>\n",
              "      <td>BARAMULLA (3)</td>\n",
              "      <td>598</td>\n",
              "      <td>91</td>\n",
              "      <td>15.22</td>\n",
              "      <td>70</td>\n",
              "      <td>11.71</td>\n",
              "      <td>478</td>\n",
              "      <td>79.93</td>\n",
              "      <td>390</td>\n",
              "      <td>65.22</td>\n",
              "      <td>...</td>\n",
              "      <td>10.03</td>\n",
              "      <td>203</td>\n",
              "      <td>33.95</td>\n",
              "      <td>13</td>\n",
              "      <td>2.17</td>\n",
              "      <td>10</td>\n",
              "      <td>1.67</td>\n",
              "      <td>584</td>\n",
              "      <td>97.66</td>\n",
              "      <td>0</td>\n",
              "    </tr>\n",
              "  </tbody>\n",
              "</table>\n",
              "<p>5 rows × 53 columns</p>\n",
              "</div>\n",
              "      <button class=\"colab-df-convert\" onclick=\"convertToInteractive('df-c1c8a57f-e33a-46d9-aebc-5d9d351f2fb1')\"\n",
              "              title=\"Convert this dataframe to an interactive table.\"\n",
              "              style=\"display:none;\">\n",
              "        \n",
              "  <svg xmlns=\"http://www.w3.org/2000/svg\" height=\"24px\"viewBox=\"0 0 24 24\"\n",
              "       width=\"24px\">\n",
              "    <path d=\"M0 0h24v24H0V0z\" fill=\"none\"/>\n",
              "    <path d=\"M18.56 5.44l.94 2.06.94-2.06 2.06-.94-2.06-.94-.94-2.06-.94 2.06-2.06.94zm-11 1L8.5 8.5l.94-2.06 2.06-.94-2.06-.94L8.5 2.5l-.94 2.06-2.06.94zm10 10l.94 2.06.94-2.06 2.06-.94-2.06-.94-.94-2.06-.94 2.06-2.06.94z\"/><path d=\"M17.41 7.96l-1.37-1.37c-.4-.4-.92-.59-1.43-.59-.52 0-1.04.2-1.43.59L10.3 9.45l-7.72 7.72c-.78.78-.78 2.05 0 2.83L4 21.41c.39.39.9.59 1.41.59.51 0 1.02-.2 1.41-.59l7.78-7.78 2.81-2.81c.8-.78.8-2.07 0-2.86zM5.41 20L4 18.59l7.72-7.72 1.47 1.35L5.41 20z\"/>\n",
              "  </svg>\n",
              "      </button>\n",
              "      \n",
              "  <style>\n",
              "    .colab-df-container {\n",
              "      display:flex;\n",
              "      flex-wrap:wrap;\n",
              "      gap: 12px;\n",
              "    }\n",
              "\n",
              "    .colab-df-convert {\n",
              "      background-color: #E8F0FE;\n",
              "      border: none;\n",
              "      border-radius: 50%;\n",
              "      cursor: pointer;\n",
              "      display: none;\n",
              "      fill: #1967D2;\n",
              "      height: 32px;\n",
              "      padding: 0 0 0 0;\n",
              "      width: 32px;\n",
              "    }\n",
              "\n",
              "    .colab-df-convert:hover {\n",
              "      background-color: #E2EBFA;\n",
              "      box-shadow: 0px 1px 2px rgba(60, 64, 67, 0.3), 0px 1px 3px 1px rgba(60, 64, 67, 0.15);\n",
              "      fill: #174EA6;\n",
              "    }\n",
              "\n",
              "    [theme=dark] .colab-df-convert {\n",
              "      background-color: #3B4455;\n",
              "      fill: #D2E3FC;\n",
              "    }\n",
              "\n",
              "    [theme=dark] .colab-df-convert:hover {\n",
              "      background-color: #434B5C;\n",
              "      box-shadow: 0px 1px 3px 1px rgba(0, 0, 0, 0.15);\n",
              "      filter: drop-shadow(0px 1px 2px rgba(0, 0, 0, 0.3));\n",
              "      fill: #FFFFFF;\n",
              "    }\n",
              "  </style>\n",
              "\n",
              "      <script>\n",
              "        const buttonEl =\n",
              "          document.querySelector('#df-c1c8a57f-e33a-46d9-aebc-5d9d351f2fb1 button.colab-df-convert');\n",
              "        buttonEl.style.display =\n",
              "          google.colab.kernel.accessAllowed ? 'block' : 'none';\n",
              "\n",
              "        async function convertToInteractive(key) {\n",
              "          const element = document.querySelector('#df-c1c8a57f-e33a-46d9-aebc-5d9d351f2fb1');\n",
              "          const dataTable =\n",
              "            await google.colab.kernel.invokeFunction('convertToInteractive',\n",
              "                                                     [key], {});\n",
              "          if (!dataTable) return;\n",
              "\n",
              "          const docLinkHtml = 'Like what you see? Visit the ' +\n",
              "            '<a target=\"_blank\" href=https://colab.research.google.com/notebooks/data_table.ipynb>data table notebook</a>'\n",
              "            + ' to learn more about interactive tables.';\n",
              "          element.innerHTML = '';\n",
              "          dataTable['output_type'] = 'display_data';\n",
              "          await google.colab.output.renderOutput(dataTable, element);\n",
              "          const docLink = document.createElement('div');\n",
              "          docLink.innerHTML = docLinkHtml;\n",
              "          element.appendChild(docLink);\n",
              "        }\n",
              "      </script>\n",
              "    </div>\n",
              "  </div>\n",
              "  "
            ]
          },
          "metadata": {},
          "execution_count": 7
        }
      ],
      "source": [
        "dataframe.head()"
      ]
    },
    {
      "cell_type": "code",
      "execution_count": 8,
      "metadata": {
        "id": "dwafL7J3Wfna"
      },
      "outputs": [],
      "source": [
        "Village_Survey_Completed = []\n",
        "Village_Survey_Not_Completed = []\n",
        "\n",
        "for index,row in dataframe.iterrows():\n",
        "  temp = []\n",
        "  temp.append(row['No. OfVillagesWhere SurveyCompleted'])\n",
        "  temp.append(row['Aanganwadi Centre'])\n",
        "  temp.append(row['Community waste disposal system'])\n",
        "  if row['Village_Survey'] == 1:\n",
        "    Village_Survey_Completed.append(temp)\n",
        "  else:\n",
        "    Village_Survey_Not_Completed.append(temp)"
      ]
    },
    {
      "cell_type": "code",
      "execution_count": 9,
      "metadata": {
        "colab": {
          "base_uri": "https://localhost:8080/"
        },
        "id": "NyB0-zC5btl6",
        "outputId": "040d8b03-bd2b-4a83-f208-ffd5057dc748"
      },
      "outputs": [
        {
          "output_type": "stream",
          "name": "stderr",
          "text": [
            "/usr/local/lib/python3.7/dist-packages/numpy/core/fromnumeric.py:3441: RuntimeWarning: Mean of empty slice.\n",
            "  out=out, **kwargs)\n",
            "/usr/local/lib/python3.7/dist-packages/numpy/core/_methods.py:189: RuntimeWarning: invalid value encountered in double_scalars\n",
            "  ret = ret.dtype.type(ret / rcount)\n"
          ]
        },
        {
          "output_type": "execute_result",
          "data": {
            "text/plain": [
              "array([30124.90909091, 23818.90909091,  4674.        ])"
            ]
          },
          "metadata": {},
          "execution_count": 9
        }
      ],
      "source": [
        "np.mean(Village_Survey_Completed,axis=0)\n",
        "np.mean(Village_Survey_Not_Completed,axis=0)"
      ]
    },
    {
      "cell_type": "code",
      "execution_count": 10,
      "metadata": {
        "colab": {
          "base_uri": "https://localhost:8080/"
        },
        "id": "kxYx0pzzb42k",
        "outputId": "e1ef4b2e-9e8c-4747-a3b6-efbe7310cc1a"
      },
      "outputs": [
        {
          "output_type": "stream",
          "name": "stderr",
          "text": [
            "/usr/local/lib/python3.7/dist-packages/numpy/core/_methods.py:263: RuntimeWarning: Degrees of freedom <= 0 for slice\n",
            "  keepdims=keepdims, where=where)\n",
            "/usr/local/lib/python3.7/dist-packages/numpy/core/_methods.py:223: RuntimeWarning: invalid value encountered in true_divide\n",
            "  subok=False)\n",
            "/usr/local/lib/python3.7/dist-packages/numpy/core/_methods.py:254: RuntimeWarning: invalid value encountered in double_scalars\n",
            "  ret = ret.dtype.type(ret / rcount)\n"
          ]
        },
        {
          "output_type": "execute_result",
          "data": {
            "text/plain": [
              "100502.24940970459"
            ]
          },
          "metadata": {},
          "execution_count": 10
        }
      ],
      "source": [
        "np.std(Village_Survey_Completed)\n",
        "np.std(Village_Survey_Not_Completed)"
      ]
    },
    {
      "cell_type": "code",
      "execution_count": 20,
      "metadata": {
        "colab": {
          "base_uri": "https://localhost:8080/"
        },
        "id": "0ejljIdFcSG2",
        "outputId": "f3fa7520-c028-4cb7-8118-d33434c60d9d"
      },
      "outputs": [
        {
          "output_type": "stream",
          "name": "stdout",
          "text": [
            "nan\n"
          ]
        },
        {
          "output_type": "stream",
          "name": "stderr",
          "text": [
            "/usr/local/lib/python3.7/dist-packages/numpy/core/fromnumeric.py:3441: RuntimeWarning: Mean of empty slice.\n",
            "  out=out, **kwargs)\n",
            "/usr/local/lib/python3.7/dist-packages/numpy/core/_methods.py:189: RuntimeWarning: invalid value encountered in double_scalars\n",
            "  ret = ret.dtype.type(ret / rcount)\n"
          ]
        }
      ],
      "source": [
        "means_distances = np.linalg.norm(np.mean(Village_Survey_Completed,axis=0) - np.mean(Village_Survey_Not_Completed,axis=0))\n",
        "print(means_distances)"
      ]
    },
    {
      "cell_type": "code",
      "execution_count": 15,
      "metadata": {
        "colab": {
          "base_uri": "https://localhost:8080/",
          "height": 428
        },
        "id": "zmXN1RZli9iJ",
        "outputId": "92e6013f-35ab-45c4-ebb6-8bbcb5bedfcf"
      },
      "outputs": [
        {
          "output_type": "display_data",
          "data": {
            "text/plain": [
              "<Figure size 720x504 with 1 Axes>"
            ],
            "image/png": "[encoded data removed]"
          },
          "metadata": {
            "needs_background": "light"
          }
        }
      ],
      "source": [
        "Feature = []\n",
        "for i in range(len(Feature_Vectors)):\n",
        "  Feature.append(Feature_Vectors[i][0])\n",
        "\n",
        "Feature = np.array(Feature)\n",
        "fig, histogram = plt.subplots(figsize =(10, 7))\n",
        "histogram.hist(Feature, bins = [0, 25, 50, 75, 100, 125])\n",
        "plt.show()"
      ]
    },
    {
      "cell_type": "code",
      "execution_count": 16,
      "metadata": {
        "colab": {
          "base_uri": "https://localhost:8080/",
          "height": 276
        },
        "id": "LXGSuijHjIDj",
        "outputId": "8473510f-a9ef-4d34-a5c5-cc77dbe15699"
      },
      "outputs": [
        {
          "output_type": "display_data",
          "data": {
            "text/plain": [
              "<Figure size 432x288 with 1 Axes>"
            ],
            "image/png": "[encoded data removed]"
          },
          "metadata": {
            "needs_background": "light"
          }
        }
      ],
      "source": [
        "distances = []\n",
        "x= []\n",
        "for i in range(1,11):\n",
        "  distances.append(distance.minkowski(Feature_Vectors[0],Feature_Vectors[1],i))\n",
        "  x.append(i)\n",
        "\n",
        "plt.plot(x,distances)\n",
        "plt.show()"
      ]
    },
    {
      "cell_type": "code",
      "execution_count": 17,
      "metadata": {
        "id": "0yfNLWiUjQZT"
      },
      "outputs": [],
      "source": [
        "y = dataframe['Village_Survey']\n",
        "from sklearn.model_selection import train_test_split\n",
        "X_train,X_test,y_train,y_test=train_test_split(Feature_Vectors,y,test_size=0.3)"
      ]
    },
    {
      "cell_type": "code",
      "execution_count": 18,
      "metadata": {
        "colab": {
          "base_uri": "https://localhost:8080/"
        },
        "id": "AnxPmwtijVgO",
        "outputId": "12ee49d1-1cb0-42af-fc73-c877ce3b8ddd"
      },
      "outputs": [
        {
          "output_type": "execute_result",
          "data": {
            "text/plain": [
              "array(['0', '0', '0', '0', '0', '0', '0'], dtype=object)"
            ]
          },
          "metadata": {},
          "execution_count": 18
        }
      ],
      "source": [
        "from sklearn.neighbors import KNeighborsClassifier\n",
        "neigh = KNeighborsClassifier(n_neighbors=3)\n",
        "neigh.fit(list(Feature_Vectors),y)\n",
        "neigh.score(X_test,y_test)\n",
        "neigh.predict(X_test)"
      ]
    },
    {
      "cell_type": "code",
      "execution_count": 19,
      "metadata": {
        "colab": {
          "base_uri": "https://localhost:8080/",
          "height": 265
        },
        "id": "mIZHgGm3jZj8",
        "outputId": "61aedb3d-a933-4a03-bbb0-1658e28ef868"
      },
      "outputs": [
        {
          "output_type": "display_data",
          "data": {
            "text/plain": [
              "<Figure size 432x288 with 1 Axes>"
            ],
            "image/png": "[encoded data removed]"
          },
          "metadata": {
            "needs_background": "light"
          }
        }
      ],
      "source": [
        "scores = []\n",
        "x = []\n",
        "for i in range(1,10):\n",
        "  neigh = KNeighborsClassifier(n_neighbors=i)\n",
        "  neigh.fit(list(Feature_Vectors),y)\n",
        "  scores.append(neigh.score(list(X_test),y_test))\n",
        "  x.append(i)\n",
        "\n",
        "\n",
        "plt.plot(x,scores)\n",
        "plt.show()"
      ]
    }
  ],
  "metadata": {
    "colab": {
      "collapsed_sections": [],
      "provenance": [],
      "include_colab_link": true
    },
    "kernelspec": {
      "display_name": "Python 3",
      "name": "python3"
    },
    "language_info": {
      "name": "python"
    }
  },
  "nbformat": 4,
  "nbformat_minor": 0
}